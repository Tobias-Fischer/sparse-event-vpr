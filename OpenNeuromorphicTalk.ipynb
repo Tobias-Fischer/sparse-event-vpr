{
 "cells": [
  {
   "cell_type": "code",
   "execution_count": null,
   "metadata": {},
   "outputs": [],
   "source": [
    "# Load the required libraries\n",
    "import numpy as np\n",
    "import pandas as pd\n",
    "import matplotlib.pyplot as plt\n",
    "import os\n",
    "import torch\n",
    "\n",
    "import ipywidgets as widgets\n",
    "from ipywidgets import interactive\n",
    "from IPython.display import display\n",
    "\n",
    "import tonic.transforms as transforms"
   ]
  },
  {
   "cell_type": "code",
   "execution_count": null,
   "metadata": {},
   "outputs": [],
   "source": [
    "# Load the query and reference data\n",
    "dir_to_load_from = './data/input_parquet_files/'\n",
    "\n",
    "sensor_size = (346, 260, 2)\n",
    "\n",
    "def load_events(filename, skip_first_n_seconds=0):\n",
    "    event_stream = pd.read_parquet(os.path.join(dir_to_load_from, filename))\n",
    "    event_stream_records = event_stream.to_records(index=False)\n",
    "    event_stream_np = np.array(event_stream_records, dtype = event_stream_records.dtype.descr)\n",
    "    event_stream_np = event_stream_np[event_stream_np[\"t\"] > skip_first_n_seconds * 1e6 + event_stream_np[\"t\"][0]]\n",
    "    event_stream_np[\"t\"] -= event_stream_np[\"t\"][0]\n",
    "    return event_stream_np\n",
    "\n",
    "events_qry = load_events('bags_2021-08-19-08-28-43_denoised.parquet')\n",
    "events_ref = load_events('bags_2021-08-19-08-25-42_denoised.parquet', skip_first_n_seconds=2.0)  # to roughly synchronize the two streams"
   ]
  },
  {
   "cell_type": "code",
   "execution_count": null,
   "metadata": {},
   "outputs": [],
   "source": [
    "# Print some metadata:\n",
    "def print_duration(event_stream):\n",
    "    print(f'Duration: {((event_stream[\"t\"][-1] - event_stream[\"t\"][0]) / 1e6):.2f}s (which is {len(event_stream)} events)')\n",
    "\n",
    "print('Query:')\n",
    "print_duration(events_qry)\n",
    "print('Reference:')\n",
    "print_duration(events_ref)"
   ]
  },
  {
   "cell_type": "code",
   "execution_count": null,
   "metadata": {},
   "outputs": [],
   "source": [
    "frame_transform_66ms = transforms.ToFrame(sensor_size=sensor_size, time_window=66e3)\n",
    "frame_transform_1000ms = transforms.ToFrame(sensor_size=sensor_size, time_window=1000e3)\n",
    "frames_qry_66ms = frame_transform_66ms(events_qry)\n",
    "frames_ref_66ms = frame_transform_66ms(events_ref)\n",
    "frames_qry_1000ms = frame_transform_1000ms(events_qry)\n",
    "frames_ref_1000ms = frame_transform_1000ms(events_ref)\n",
    "\n",
    "frames_qry_66ms.shape"
   ]
  },
  {
   "cell_type": "code",
   "execution_count": null,
   "metadata": {},
   "outputs": [],
   "source": [
    "# Create an ipywidget to visualize the frames\n",
    "def plot_frame(frame_index):\n",
    "    frame = frames_qry_66ms[frame_index]\n",
    "    _, ax = plt.subplots(1, 1, figsize=(10, 10))\n",
    "    ax.imshow(frame[1] - frame[0])\n",
    "    ax.axis(\"off\")\n",
    "    plt.show()\n",
    "\n",
    "# Create a slider for frame selection\n",
    "frame_slider = widgets.IntSlider(min=0, max=frames_qry_66ms.shape[0]-1, step=1, value=0, description='Frame #:')\n",
    "\n",
    "# Display the widget\n",
    "interactive_plot = interactive(plot_frame, frame_index=frame_slider)\n",
    "display(interactive_plot)"
   ]
  },
  {
   "cell_type": "code",
   "execution_count": null,
   "metadata": {},
   "outputs": [],
   "source": [
    "# Let's plot the number of events over time\n",
    "def plot_events_over_time(event_frames_list, time_window):\n",
    "    plt.figure(figsize=(10, 5))\n",
    "    # x axis: time in seconds\n",
    "    # y axis: number of events (sum of all pixels in an event frame)\n",
    "    for event_frames in event_frames_list:\n",
    "        if len(event_frames.shape) == 4:  # if the event_frames are in the format (n_frames, height, width, polarity)\n",
    "            plt.plot(np.arange(event_frames.shape[0]) * time_window / 1e6, np.sum(event_frames[:, 1], axis=(1, 2)))\n",
    "        else: # if the event_frames are in the format (n_frames, height, width)\n",
    "            plt.plot(np.arange(event_frames.shape[0]) * time_window / 1e6, np.sum(event_frames, axis=1))\n",
    "    plt.xlabel('Time (s)')\n",
    "    plt.ylabel('Number of events')\n",
    "    plt.show()\n",
    "\n",
    "plot_events_over_time([frames_qry_66ms, frames_ref_66ms], time_window=66e3)"
   ]
  },
  {
   "cell_type": "code",
   "execution_count": null,
   "metadata": {},
   "outputs": [],
   "source": [
    "plot_events_over_time([frames_qry_1000ms, frames_ref_1000ms], time_window=1000e3)"
   ]
  },
  {
   "cell_type": "code",
   "execution_count": null,
   "metadata": {},
   "outputs": [],
   "source": [
    "# Let's pick N random pixels\n",
    "N = 50\n",
    "random_pixels = []\n",
    "for _ in range(N):\n",
    "    random_idx_flat = np.random.choice(np.arange(0, sensor_size[0] * sensor_size[1]))\n",
    "    random_pixel = np.unravel_index(random_idx_flat, (sensor_size[0], sensor_size[1]))\n",
    "    random_pixels.append(random_pixel)\n",
    "\n",
    "# Let's visualise the random pixel locations\n",
    "def plot_random_pixels(random_pixels):\n",
    "    plt.figure(figsize=(10, 10))\n",
    "    plt.imshow(frames_qry_66ms[0, 1] - frames_qry_66ms[0, 0])\n",
    "    for pixel in random_pixels:\n",
    "        plt.scatter(pixel[0], pixel[1], c='r', s=10)\n",
    "    plt.axis(\"off\")\n",
    "    plt.show()\n",
    "\n",
    "plot_random_pixels(random_pixels)"
   ]
  },
  {
   "cell_type": "code",
   "execution_count": null,
   "metadata": {},
   "outputs": [],
   "source": [
    "# Now let's create event frames that only contain the events of the random pixels\n",
    "def create_frames_subset(frames, random_pixels):\n",
    "    frames_subset = np.zeros((len(frames), len(random_pixels)))\n",
    "    for frame_idx in range(len(frames)):\n",
    "        for p_idx in range(len(random_pixels)):\n",
    "            frames_subset[frame_idx, p_idx] = frames[frame_idx, random_pixels[p_idx][1], random_pixels[p_idx][0]]\n",
    "    return frames_subset\n",
    "\n",
    "# Let's ignore the polarity for now\n",
    "frames_qry_66ms_nopol = np.sum(frames_qry_66ms, axis=1)\n",
    "frames_ref_66ms_nopol = np.sum(frames_ref_66ms, axis=1)\n",
    "\n",
    "frames_qry_1000ms_nopol = np.sum(frames_qry_1000ms, axis=1)\n",
    "frames_ref_1000ms_nopol = np.sum(frames_ref_1000ms, axis=1)\n",
    "\n",
    "# Create the event frames for the random pixels by selecting the number of events occuring at the random pixels\n",
    "frames_random_pixels_qry_66ms = create_frames_subset(frames_qry_66ms_nopol, random_pixels)\n",
    "frames_random_pixels_ref_66ms = create_frames_subset(frames_ref_66ms_nopol, random_pixels)\n",
    "\n",
    "frames_random_pixels_qry_1000ms = create_frames_subset(frames_qry_1000ms_nopol, random_pixels)\n",
    "frames_random_pixels_ref_1000ms = create_frames_subset(frames_ref_1000ms_nopol, random_pixels)"
   ]
  },
  {
   "cell_type": "code",
   "execution_count": null,
   "metadata": {},
   "outputs": [],
   "source": [
    "plot_events_over_time([frames_random_pixels_qry_66ms, frames_random_pixels_ref_66ms], time_window=66e3)"
   ]
  },
  {
   "cell_type": "code",
   "execution_count": null,
   "metadata": {},
   "outputs": [],
   "source": [
    "plot_events_over_time([frames_random_pixels_qry_1000ms, frames_random_pixels_ref_1000ms], time_window=1000e3)"
   ]
  },
  {
   "cell_type": "code",
   "execution_count": null,
   "metadata": {},
   "outputs": [],
   "source": [
    "# Now let's calculate a distance matrix between the query and reference event frames\n",
    "# Each column of the distance matrix corresponds to a query event frame\n",
    "# Each row of the distance matrix corresponds to a reference event frame\n",
    "\n",
    "def calculate_distance_matrix_slow(event_frames_qry, event_frames_ref):\n",
    "    distance_matrix = np.zeros((event_frames_qry.shape[0], event_frames_ref.shape[0]))\n",
    "    for i in range(event_frames_qry.shape[0]):\n",
    "        for j in range(event_frames_ref.shape[0]):\n",
    "            # Use the Sum of Absolute Differences (SAD) as distance metric\n",
    "            distance_matrix[j, i] = np.sum(np.abs(event_frames_qry[i] - event_frames_ref[j]))\n",
    "    return distance_matrix\n",
    "\n",
    "def calculate_distance_matrix_fast(event_frames_qry, event_frames_ref):\n",
    "    # Use the Sum of Absolute Differences (SAD) as distance metric\n",
    "    distance_matrix = np.sum(np.abs(event_frames_ref[:, None] - event_frames_qry[None]), axis=2)\n",
    "    return distance_matrix\n",
    "\n",
    "def caculate_distance_matrix_torch(event_frames_qry, event_frames_ref):\n",
    "    ref = torch.from_numpy(event_frames_ref.reshape(event_frames_ref.shape[0], -1).astype(np.float32)).unsqueeze(0)\n",
    "    qry = torch.from_numpy(event_frames_qry.reshape(event_frames_qry.shape[0], -1).astype(np.float32)).unsqueeze(0)\n",
    "    return torch.cdist(qry, ref, 1)[0].numpy()\n",
    "\n",
    "distance_matrix_fast_random_pixels_66ms = calculate_distance_matrix_fast(frames_random_pixels_qry_66ms, frames_random_pixels_ref_66ms)\n",
    "distance_matrix_fast_random_pixels_1000ms = calculate_distance_matrix_fast(frames_random_pixels_qry_1000ms, frames_random_pixels_ref_1000ms)\n",
    "# distance_matrix_slow = calculate_distance_matrix_slow(event_frames_random_pixels_qry, event_frames_random_pixels_ref)"
   ]
  },
  {
   "cell_type": "code",
   "execution_count": null,
   "metadata": {},
   "outputs": [],
   "source": [
    "frames_random_pixels_qry_66ms.shape"
   ]
  },
  {
   "cell_type": "code",
   "execution_count": null,
   "metadata": {},
   "outputs": [],
   "source": [
    "distance_matrix_fast_random_pixels_66ms.shape"
   ]
  },
  {
   "cell_type": "code",
   "execution_count": null,
   "metadata": {},
   "outputs": [],
   "source": [
    "np.argmin(distance_matrix_fast_random_pixels_66ms, axis=0).shape"
   ]
  },
  {
   "cell_type": "code",
   "execution_count": null,
   "metadata": {},
   "outputs": [],
   "source": [
    "distance_matrix_all_pixels_66ms = caculate_distance_matrix_torch(frames_qry_66ms_nopol, frames_ref_66ms_nopol)"
   ]
  },
  {
   "cell_type": "code",
   "execution_count": null,
   "metadata": {},
   "outputs": [],
   "source": [
    "# plot the distance matrix\n",
    "def plot_distance_matrix(distance_matrix):\n",
    "    plt.figure(figsize=(10, 10))\n",
    "    plt.imshow(distance_matrix, aspect='equal', cmap='RdBu')\n",
    "    plt.colorbar()\n",
    "    # show best match for each query frame\n",
    "    best_match = np.argmin(distance_matrix, axis=0)\n",
    "    # print(best_match.shape)\n",
    "    plt.scatter(np.arange(len(best_match)), best_match, c='b', s=10)\n",
    "    plt.xlabel('Query frame #')\n",
    "    plt.ylabel('Reference frame #')\n",
    "    plt.title('Distance matrix')\n",
    "    plt.show()\n",
    "\n",
    "plot_distance_matrix(distance_matrix_fast_random_pixels_66ms)\n",
    "plot_distance_matrix(distance_matrix_fast_random_pixels_1000ms)\n",
    "# plot_distance_matrix(distance_matrix_all_pixels_66ms)"
   ]
  },
  {
   "cell_type": "code",
   "execution_count": null,
   "metadata": {},
   "outputs": [],
   "source": [
    "# define ground truth matrix, allowing +-10% tolerance around each reference frame\n",
    "tolerance = 0.05\n",
    "ground_truth_matrix_66ms = np.zeros((frames_random_pixels_ref_66ms.shape[0], frames_random_pixels_qry_66ms.shape[0]))\n",
    "for i in range(frames_random_pixels_qry_66ms.shape[0]):\n",
    "    for j in range(frames_random_pixels_ref_66ms.shape[0]):\n",
    "        if np.abs(i - j) <= tolerance * frames_random_pixels_ref_66ms.shape[0]:\n",
    "            ground_truth_matrix_66ms[j, i] = 1\n",
    "\n",
    "# now do the same for the 1000ms event frames\n",
    "ground_truth_matrix_1000ms = np.zeros((frames_random_pixels_ref_1000ms.shape[0], frames_random_pixels_qry_1000ms.shape[0]))\n",
    "for i in range(frames_random_pixels_qry_1000ms.shape[0]):\n",
    "    for j in range(frames_random_pixels_ref_1000ms.shape[0]):\n",
    "        if np.abs(i - j) <= tolerance * frames_random_pixels_ref_1000ms.shape[0]:\n",
    "            ground_truth_matrix_1000ms[j, i] = 1\n",
    "\n",
    "plt.figure(figsize=(10, 10))\n",
    "plt.imshow(ground_truth_matrix_66ms, aspect='equal', cmap='Greys')\n",
    "\n",
    "print(ground_truth_matrix_66ms.shape)"
   ]
  },
  {
   "cell_type": "code",
   "execution_count": null,
   "metadata": {},
   "outputs": [],
   "source": [
    "# calculate accuracy, assuming +-10% tolerance around the correct match\n",
    "\n",
    "def calculate_accuracy(distance_matrix, ground_truth_matrix):\n",
    "    best_matches = np.argmin(distance_matrix, axis=0)\n",
    "    num_correct = 0\n",
    "    for i in range(len(best_matches)):\n",
    "        if ground_truth_matrix[best_matches[i], i] == 1:\n",
    "            num_correct += 1\n",
    "    accuracy = num_correct / len(best_matches)\n",
    "    return accuracy\n",
    "\n",
    "accuracy_random_pixels_66ms = calculate_accuracy(distance_matrix_fast_random_pixels_66ms, ground_truth_matrix_66ms)\n",
    "print(f'Accuracy random pixels (66ms windows): {accuracy_random_pixels_66ms * 100:.2f}%')\n",
    "\n",
    "accuracy_random_pixels_1000ms = calculate_accuracy(distance_matrix_fast_random_pixels_1000ms, ground_truth_matrix_1000ms)\n",
    "print(f'Accuracy random pixels (1000ms windows): {accuracy_random_pixels_1000ms * 100:.2f}%')\n",
    "\n",
    "# accuracy_all_pixels_66ms = calculate_accuracy(distance_matrix_all_pixels_66ms, ground_truth_matrix_66ms)\n",
    "# print(f'Accuracy all pixels: {accuracy_all_pixels_66ms * 100:.2f}%')"
   ]
  },
  {
   "cell_type": "code",
   "execution_count": null,
   "metadata": {},
   "outputs": [],
   "source": [
    "# Add sequence matcher over the top of the distance matrix\n",
    "seq_length = 1000//66\n",
    "print('Using sequence length:', seq_length)\n",
    "\n",
    "device = torch.device(\"mps\")\n",
    "\n",
    "precomputed_convWeight = torch.eye(seq_length).unsqueeze(0).unsqueeze(0)\n",
    "dist_matrix_random_seq_66ms = torch.nn.functional.conv2d(torch.from_numpy(distance_matrix_fast_random_pixels_66ms.astype(np.float32)).unsqueeze(0).unsqueeze(0), precomputed_convWeight).squeeze().cpu().numpy() / seq_length\n",
    "# Let's keep dimensions for ease the same (padding the borders)\n",
    "dist_matrix_random_seq_66ms = np.pad(dist_matrix_random_seq_66ms, ((seq_length//2, seq_length//2-1), (seq_length//2, seq_length//2-1)), mode='constant', constant_values=np.inf)"
   ]
  },
  {
   "cell_type": "code",
   "execution_count": null,
   "metadata": {},
   "outputs": [],
   "source": [
    "plot_distance_matrix(dist_matrix_random_seq_66ms)"
   ]
  },
  {
   "cell_type": "code",
   "execution_count": null,
   "metadata": {},
   "outputs": [],
   "source": [
    "accuracy_random_pixels_seq_66ms = calculate_accuracy(dist_matrix_random_seq_66ms, ground_truth_matrix_66ms)\n",
    "print(f'Accuracy random pixels sequence matcher 66ms: {accuracy_random_pixels_seq_66ms * 100:.2f}%')"
   ]
  }
 ],
 "metadata": {
  "kernelspec": {
   "display_name": "sparse-event-vpr",
   "language": "python",
   "name": "python3"
  },
  "language_info": {
   "codemirror_mode": {
    "name": "ipython",
    "version": 3
   },
   "file_extension": ".py",
   "mimetype": "text/x-python",
   "name": "python",
   "nbconvert_exporter": "python",
   "pygments_lexer": "ipython3",
   "version": "3.12.3"
  }
 },
 "nbformat": 4,
 "nbformat_minor": 2
}
